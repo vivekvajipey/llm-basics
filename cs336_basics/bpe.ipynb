{
 "cells": [
  {
   "cell_type": "code",
   "execution_count": 6,
   "metadata": {},
   "outputs": [],
   "source": [
    "ex_corpus = \"\"\" low low low low low lower lower widest widest widest newest newest newest newest newest newest\"\"\""
   ]
  },
  {
   "cell_type": "code",
   "execution_count": 2,
   "metadata": {},
   "outputs": [
    {
     "data": {
      "text/plain": [
       "['some', ' text', ' that', ' i', \"'ll\", ' pre', '-', 'tokenize']"
      ]
     },
     "execution_count": 2,
     "metadata": {},
     "output_type": "execute_result"
    }
   ],
   "source": [
    "# pre-tokenize\n",
    "import regex as re\n",
    "PAT = r\"\"\"'(?:[sdmt]|ll|ve|re)| ?\\p{L}+| ?\\p{N}+| ?[^\\s\\p{L}\\p{N}]+|\\s+(?!\\S)|\\s+\"\"\"\n",
    "re.findall(PAT, \"some text that i'll pre-tokenize\")"
   ]
  },
  {
   "cell_type": "code",
   "execution_count": 8,
   "metadata": {},
   "outputs": [
    {
     "data": {
      "text/plain": [
       "['low',\n",
       " 'low',\n",
       " 'low',\n",
       " 'low',\n",
       " 'low',\n",
       " 'lower',\n",
       " 'lower',\n",
       " 'widest',\n",
       " 'widest',\n",
       " 'widest',\n",
       " 'newest',\n",
       " 'newest',\n",
       " 'newest',\n",
       " 'newest',\n",
       " 'newest',\n",
       " 'newest']"
      ]
     },
     "execution_count": 8,
     "metadata": {},
     "output_type": "execute_result"
    }
   ],
   "source": [
    "pretokens = [pt.strip() for pt in re.findall(PAT, ex_corpus)]\n",
    "pretokens"
   ]
  },
  {
   "cell_type": "code",
   "execution_count": 12,
   "metadata": {},
   "outputs": [
    {
     "data": {
      "text/plain": [
       "{('l', 'o', 'w'): 5,\n",
       " ('l', 'o', 'w', 'e', 'r'): 2,\n",
       " ('w', 'i', 'd', 'e', 's', 't'): 3,\n",
       " ('n', 'e', 'w', 'e', 's', 't'): 6}"
      ]
     },
     "execution_count": 12,
     "metadata": {},
     "output_type": "execute_result"
    }
   ],
   "source": [
    "freq_table = {}\n",
    "for pt in pretokens:\n",
    "    pt = tuple(pt)\n",
    "    freq_table[pt] = 1 + freq_table.get(pt, 0)\n",
    "freq_table"
   ]
  },
  {
   "cell_type": "code",
   "execution_count": 15,
   "metadata": {},
   "outputs": [
    {
     "name": "stdout",
     "output_type": "stream",
     "text": [
      "('l', 'o') 5\n",
      "('o', 'w') 5\n",
      "('l', 'o') 2\n",
      "('o', 'w') 2\n",
      "('w', 'e') 2\n",
      "('e', 'r') 2\n",
      "('w', 'i') 3\n",
      "('i', 'd') 3\n",
      "('d', 'e') 3\n",
      "('e', 's') 3\n",
      "('s', 't') 3\n",
      "('n', 'e') 6\n",
      "('e', 'w') 6\n",
      "('w', 'e') 6\n",
      "('e', 's') 6\n",
      "('s', 't') 6\n"
     ]
    }
   ],
   "source": [
    "bp_freqs = {}\n",
    "for k, v in freq_table.items():\n",
    "    # print(k, v)\n",
    "    for a, b in zip(k[:-1], k[1:]):\n",
    "        print((a, b), v)"
   ]
  }
 ],
 "metadata": {
  "kernelspec": {
   "display_name": "cs336_basics",
   "language": "python",
   "name": "python3"
  },
  "language_info": {
   "codemirror_mode": {
    "name": "ipython",
    "version": 3
   },
   "file_extension": ".py",
   "mimetype": "text/x-python",
   "name": "python",
   "nbconvert_exporter": "python",
   "pygments_lexer": "ipython3",
   "version": "3.10.16"
  }
 },
 "nbformat": 4,
 "nbformat_minor": 2
}
